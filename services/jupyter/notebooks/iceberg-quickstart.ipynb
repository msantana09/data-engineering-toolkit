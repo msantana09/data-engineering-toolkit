{
 "cells": [
  {
   "cell_type": "markdown",
   "id": "3ddc5500-c785-4240-a868-d9e429ae1107",
   "metadata": {},
   "source": [
    "# Apache Iceberg Quicksart"
   ]
  },
  {
   "cell_type": "markdown",
   "id": "6606ad7e-cdbf-4072-8fd8-d8ca14353215",
   "metadata": {},
   "source": [
    "### Running through examples from [quickstart](https://iceberg.apache.org/spark-quickstart/)"
   ]
  },
  {
   "cell_type": "markdown",
   "id": "b1524ffc-1b1d-4b85-a1d5-a99a34563dd0",
   "metadata": {},
   "source": [
    "## Initialize Spark Session"
   ]
  },
  {
   "cell_type": "code",
   "execution_count": 1,
   "id": "9a8eedf8-3cfd-4868-91ca-c6d5dbccfd04",
   "metadata": {},
   "outputs": [
    {
     "name": "stderr",
     "output_type": "stream",
     "text": [
      "24/01/12 22:02:15 WARN SparkSession: Using an existing Spark session; only runtime SQL configurations will take effect.\n"
     ]
    }
   ],
   "source": [
    "from pyspark.sql import SparkSession\n",
    "\n",
    "from pyspark.sql.types import DoubleType, FloatType, LongType, StructType,StructField, StringType\n",
    "spark = SparkSession.builder.appName(\"icerberg_qs\").getOrCreate()\n"
   ]
  },
  {
   "cell_type": "markdown",
   "id": "d7e44581-891b-4365-8e39-eca3361ce27f",
   "metadata": {},
   "source": [
    "## Define empty datafame"
   ]
  },
  {
   "cell_type": "code",
   "execution_count": 2,
   "id": "0f2c2e4e-075b-46f3-8437-6debe526e777",
   "metadata": {},
   "outputs": [
    {
     "data": {
      "text/plain": [
       "DataFrame[vendor_id: bigint, trip_id: bigint, trip_distance: float, fare_amount: double, store_and_fwd_flag: string]"
      ]
     },
     "execution_count": 2,
     "metadata": {},
     "output_type": "execute_result"
    }
   ],
   "source": [
    "schema = StructType([\n",
    "  StructField(\"vendor_id\", LongType(), True),\n",
    "  StructField(\"trip_id\", LongType(), True),\n",
    "  StructField(\"trip_distance\", FloatType(), True),\n",
    "  StructField(\"fare_amount\", DoubleType(), True),\n",
    "  StructField(\"store_and_fwd_flag\", StringType(), True)\n",
    "])\n",
    "\n",
    "df = spark.createDataFrame([], schema)\n",
    "df"
   ]
  },
  {
   "cell_type": "markdown",
   "id": "6a3e568e-2b74-47a5-a6d1-38716416d733",
   "metadata": {},
   "source": [
    "### Create empty table with schema"
   ]
  },
  {
   "cell_type": "code",
   "execution_count": 3,
   "id": "a4eb6280-150d-4a09-8556-83fafbc14875",
   "metadata": {},
   "outputs": [
    {
     "name": "stderr",
     "output_type": "stream",
     "text": [
      "SLF4J: Failed to load class \"org.slf4j.impl.StaticLoggerBinder\".    (0 + 1) / 1]\n",
      "SLF4J: Defaulting to no-operation (NOP) logger implementation\n",
      "SLF4J: See http://www.slf4j.org/codes.html#StaticLoggerBinder for further details.\n",
      "                                                                                \r"
     ]
    }
   ],
   "source": [
    "spark.sql('CREATE DATABASE IF NOT EXISTS lakehouse.nyc;')\n",
    "\n",
    "df.writeTo(\"lakehouse.nyc.taxis\").create()"
   ]
  },
  {
   "cell_type": "markdown",
   "id": "bd264288-c8e1-4c6f-8d1b-eddd9690ab69",
   "metadata": {},
   "source": [
    "### Confirm table was created"
   ]
  },
  {
   "cell_type": "code",
   "execution_count": 4,
   "id": "7e4e3d90-f88c-436f-84d0-64cf605118e1",
   "metadata": {},
   "outputs": [
    {
     "data": {
      "text/plain": [
       "[Table(name='taxis', catalog='lakehouse', namespace=['nyc'], description=None, tableType='MANAGED', isTemporary=False)]"
      ]
     },
     "execution_count": 4,
     "metadata": {},
     "output_type": "execute_result"
    }
   ],
   "source": [
    "spark.catalog.listTables('nyc')"
   ]
  },
  {
   "cell_type": "markdown",
   "id": "39b46573-0b92-4fa7-9c0c-fca859df44a7",
   "metadata": {},
   "source": [
    "### Write data to existing table"
   ]
  },
  {
   "cell_type": "code",
   "execution_count": 5,
   "id": "daf70314-4339-4dac-9f18-b3dfa3799d3b",
   "metadata": {},
   "outputs": [
    {
     "name": "stderr",
     "output_type": "stream",
     "text": [
      "                                                                                \r"
     ]
    }
   ],
   "source": [
    "schema = spark.table(\"lakehouse.nyc.taxis\").schema\n",
    "data = [\n",
    "    (1, 1000371, 1.8, 15.32, \"N\"),\n",
    "    (2, 1000372, 2.5, 22.15, \"N\"),\n",
    "    (2, 1000373, 0.9, 9.01, \"N\"),\n",
    "    (1, 1000374, 8.4, 42.13, \"Y\")\n",
    "  ]\n",
    "df = spark.createDataFrame(data, schema)\n",
    "df.writeTo(\"lakehouse.nyc.taxis\").append()"
   ]
  },
  {
   "cell_type": "markdown",
   "id": "b394d5a0-d590-4629-92fe-b1e6803baaf2",
   "metadata": {},
   "source": [
    "### Confirm data was added"
   ]
  },
  {
   "cell_type": "code",
   "execution_count": 6,
   "id": "1f68a56f-0a76-4a22-87ab-a7d230590111",
   "metadata": {},
   "outputs": [
    {
     "name": "stderr",
     "output_type": "stream",
     "text": [
      "[Stage 4:>                                                          (0 + 1) / 1]\r"
     ]
    },
    {
     "name": "stdout",
     "output_type": "stream",
     "text": [
      "+---------+-------+-------------+-----------+------------------+\n",
      "|vendor_id|trip_id|trip_distance|fare_amount|store_and_fwd_flag|\n",
      "+---------+-------+-------------+-----------+------------------+\n",
      "|        1|1000371|          1.8|      15.32|                 N|\n",
      "|        2|1000372|          2.5|      22.15|                 N|\n",
      "|        2|1000373|          0.9|       9.01|                 N|\n",
      "|        1|1000374|          8.4|      42.13|                 Y|\n",
      "+---------+-------+-------------+-----------+------------------+\n",
      "\n"
     ]
    },
    {
     "name": "stderr",
     "output_type": "stream",
     "text": [
      "                                                                                \r"
     ]
    }
   ],
   "source": [
    "df = spark.table(\"lakehouse.nyc.taxis\").show()"
   ]
  },
  {
   "cell_type": "code",
   "execution_count": 7,
   "id": "247bfaac-86a1-4ec5-b244-385f6b32658f",
   "metadata": {},
   "outputs": [],
   "source": [
    "spark.stop()"
   ]
  },
  {
   "cell_type": "code",
   "execution_count": null,
   "id": "007dba9d-5210-4e39-90ce-e135ec916dc8",
   "metadata": {},
   "outputs": [],
   "source": []
  }
 ],
 "metadata": {
  "kernelspec": {
   "display_name": "Python 3 (ipykernel)",
   "language": "python",
   "name": "python3"
  },
  "language_info": {
   "codemirror_mode": {
    "name": "ipython",
    "version": 3
   },
   "file_extension": ".py",
   "mimetype": "text/x-python",
   "name": "python",
   "nbconvert_exporter": "python",
   "pygments_lexer": "ipython3",
   "version": "3.8.10"
  }
 },
 "nbformat": 4,
 "nbformat_minor": 5
}
