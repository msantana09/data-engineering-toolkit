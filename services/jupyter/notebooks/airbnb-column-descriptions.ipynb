{
 "cells": [
  {
   "cell_type": "code",
   "execution_count": 1,
   "id": "07fda60b-d7f2-47e6-84b4-8ca17ad46747",
   "metadata": {},
   "outputs": [],
   "source": [
    "import sys\n",
    "import pandas as pd\n",
    "from pyspark.sql import SparkSession,  DataFrame, functions as F\n",
    "from pyspark.sql.types import DoubleType\n"
   ]
  },
  {
   "cell_type": "code",
   "execution_count": 2,
   "id": "f4e564a1-e701-4c9e-bea9-1fd8e34c5964",
   "metadata": {},
   "outputs": [],
   "source": [
    "# functions for building & parsing request/response\n",
    "\n",
    "import csv\n",
    "import io\n",
    "def list_of_dicts_to_csv(data):\n",
    "    output = io.StringIO()\n",
    "    keys = data[0].keys()\n",
    "    dict_writer = csv.DictWriter(output, keys)\n",
    "    dict_writer.writeheader()\n",
    "    dict_writer.writerows(data)\n",
    "    return output.getvalue()\n",
    "\n",
    "def build_model_api_payload_csv(dataset_context:str, table:str, columns:list) -> dict: \n",
    "    '''\n",
    "    Returns a dictionary that can be used as the payload for the LLM API request\n",
    "    '''\n",
    "    payload = {\n",
    "        \"context\": dataset_context,\n",
    "        \"tables\": [\n",
    "            {\n",
    "                \"name\": table,\n",
    "                \"column_csv\": list_of_dicts_to_csv(columns)\n",
    "            } \n",
    "        ]\n",
    "    }\n",
    "    return payload\n",
    "\n",
    "def csv_to_json_array(csv_string):\n",
    "    csv_reader = csv.reader(csv_string.splitlines())\n",
    "    field_names = next(csv_reader)\n",
    "    values = []\n",
    "    for row in csv_reader:\n",
    "        values.append(dict(zip(field_names, row)))\n",
    "    return values\n",
    "\n",
    "import requests\n",
    "import json\n",
    "\n",
    "def post_json_request(url, payload, additional_headers=None):\n",
    "    # Set default headers\n",
    "    headers = {\n",
    "        'Content-Type': 'application/json',\n",
    "        'Accept': 'application/json',\n",
    "    }\n",
    "\n",
    "    # Merge with additional headers if provided\n",
    "    if additional_headers:\n",
    "        headers.update(additional_headers)\n",
    "        \n",
    "    payload_json = json.dumps(payload)\n",
    "\n",
    "    # Perform the POST request\n",
    "    response = requests.post(url, data=payload_json, headers=headers)\n",
    "\n",
    "    # Return the response\n",
    "    return response\n",
    "\n",
    "import tiktoken\n",
    "def num_tokens_from_string(string: str, encoding_name: str) -> int:\n",
    "    \"\"\"Returns the number of tokens in a text string.\"\"\"\n",
    "    encoding = tiktoken.get_encoding(encoding_name)\n",
    "    num_tokens = len(encoding.encode(string))\n",
    "    return num_tokens"
   ]
  },
  {
   "cell_type": "code",
   "execution_count": 3,
   "id": "afa0dd6a-b7cc-49a8-866a-3bbdd6291c91",
   "metadata": {},
   "outputs": [
    {
     "name": "stderr",
     "output_type": "stream",
     "text": [
      "23/12/19 16:28:24 WARN SparkSession: Using an existing Spark session; only runtime SQL configurations will take effect.\n"
     ]
    }
   ],
   "source": [
    "spark = SparkSession.builder.appName(\"testing_model_api\").getOrCreate()"
   ]
  },
  {
   "cell_type": "code",
   "execution_count": 5,
   "id": "07c5d8c7-82fe-4e60-9ccf-e328a9957717",
   "metadata": {},
   "outputs": [
    {
     "data": {
      "text/plain": [
       "[CatalogMetadata(name='lakehouse', description=None),\n",
       " CatalogMetadata(name='spark_catalog', description=None)]"
      ]
     },
     "execution_count": 5,
     "metadata": {},
     "output_type": "execute_result"
    }
   ],
   "source": [
    "spark.catalog.listCatalogs()"
   ]
  },
  {
   "cell_type": "code",
   "execution_count": 6,
   "id": "ec5b4610-835a-4a0d-8a1c-fbe7dbc320e3",
   "metadata": {},
   "outputs": [
    {
     "name": "stderr",
     "output_type": "stream",
     "text": [
      "SLF4J: Failed to load class \"org.slf4j.impl.StaticLoggerBinder\".\n",
      "SLF4J: Defaulting to no-operation (NOP) logger implementation\n",
      "SLF4J: See http://www.slf4j.org/codes.html#StaticLoggerBinder for further details.\n",
      "23/12/19 16:29:31 WARN SparkStringUtils: Truncated the string representation of a plan since it was too large. This behavior can be adjusted by setting 'spark.sql.debug.maxToStringFields'.\n",
      "                                                                                \r"
     ]
    },
    {
     "data": {
      "text/html": [
       "<div>\n",
       "<style scoped>\n",
       "    .dataframe tbody tr th:only-of-type {\n",
       "        vertical-align: middle;\n",
       "    }\n",
       "\n",
       "    .dataframe tbody tr th {\n",
       "        vertical-align: top;\n",
       "    }\n",
       "\n",
       "    .dataframe thead th {\n",
       "        text-align: right;\n",
       "    }\n",
       "</style>\n",
       "<table border=\"1\" class=\"dataframe\">\n",
       "  <thead>\n",
       "    <tr style=\"text-align: right;\">\n",
       "      <th></th>\n",
       "      <th>id</th>\n",
       "      <th>name</th>\n",
       "      <th>summary</th>\n",
       "      <th>space</th>\n",
       "      <th>description</th>\n",
       "      <th>experiences_offered</th>\n",
       "      <th>neighborhood_overview</th>\n",
       "      <th>notes</th>\n",
       "      <th>transit</th>\n",
       "      <th>host_id</th>\n",
       "      <th>...</th>\n",
       "      <th>review_scores_communication</th>\n",
       "      <th>review_scores_location</th>\n",
       "      <th>review_scores_value</th>\n",
       "      <th>jurisdiction_names</th>\n",
       "      <th>instant_bookable</th>\n",
       "      <th>cancellation_policy</th>\n",
       "      <th>require_guest_profile_picture</th>\n",
       "      <th>require_guest_phone_verification</th>\n",
       "      <th>calculated_host_listings_count</th>\n",
       "      <th>reviews_per_month</th>\n",
       "    </tr>\n",
       "  </thead>\n",
       "  <tbody>\n",
       "    <tr>\n",
       "      <th>0</th>\n",
       "      <td>241032</td>\n",
       "      <td>Stylish Queen Anne Apartment</td>\n",
       "      <td>None</td>\n",
       "      <td>Make your self at home in this charming one-be...</td>\n",
       "      <td>Make your self at home in this charming one-be...</td>\n",
       "      <td>none</td>\n",
       "      <td>None</td>\n",
       "      <td>None</td>\n",
       "      <td>None</td>\n",
       "      <td>956883</td>\n",
       "      <td>...</td>\n",
       "      <td>10.0</td>\n",
       "      <td>9.0</td>\n",
       "      <td>10.0</td>\n",
       "      <td>WASHINGTON</td>\n",
       "      <td>False</td>\n",
       "      <td>moderate</td>\n",
       "      <td>False</td>\n",
       "      <td>False</td>\n",
       "      <td>2</td>\n",
       "      <td>4.07</td>\n",
       "    </tr>\n",
       "    <tr>\n",
       "      <th>1</th>\n",
       "      <td>953595</td>\n",
       "      <td>Bright &amp; Airy Queen Anne Apartment</td>\n",
       "      <td>Chemically sensitive? We've removed the irrita...</td>\n",
       "      <td>Beautiful, hypoallergenic apartment in an extr...</td>\n",
       "      <td>Chemically sensitive? We've removed the irrita...</td>\n",
       "      <td>none</td>\n",
       "      <td>Queen Anne is a wonderful, truly functional vi...</td>\n",
       "      <td>What's up with the free pillows?  Our home was...</td>\n",
       "      <td>Convenient bus stops are just down the block, ...</td>\n",
       "      <td>5177328</td>\n",
       "      <td>...</td>\n",
       "      <td>10.0</td>\n",
       "      <td>10.0</td>\n",
       "      <td>10.0</td>\n",
       "      <td>WASHINGTON</td>\n",
       "      <td>False</td>\n",
       "      <td>strict</td>\n",
       "      <td>True</td>\n",
       "      <td>True</td>\n",
       "      <td>6</td>\n",
       "      <td>1.48</td>\n",
       "    </tr>\n",
       "    <tr>\n",
       "      <th>2</th>\n",
       "      <td>3308979</td>\n",
       "      <td>New Modern House-Amazing water view</td>\n",
       "      <td>New modern house built in 2013.  Spectacular s...</td>\n",
       "      <td>Our house is modern, light and fresh with a wa...</td>\n",
       "      <td>New modern house built in 2013.  Spectacular s...</td>\n",
       "      <td>none</td>\n",
       "      <td>Upper Queen Anne is a charming neighborhood fu...</td>\n",
       "      <td>Our house is located just 5 short blocks to To...</td>\n",
       "      <td>A bus stop is just 2 blocks away.   Easy bus a...</td>\n",
       "      <td>16708587</td>\n",
       "      <td>...</td>\n",
       "      <td>10.0</td>\n",
       "      <td>10.0</td>\n",
       "      <td>10.0</td>\n",
       "      <td>WASHINGTON</td>\n",
       "      <td>False</td>\n",
       "      <td>strict</td>\n",
       "      <td>False</td>\n",
       "      <td>False</td>\n",
       "      <td>2</td>\n",
       "      <td>1.15</td>\n",
       "    </tr>\n",
       "    <tr>\n",
       "      <th>3</th>\n",
       "      <td>7421966</td>\n",
       "      <td>Queen Anne Chateau</td>\n",
       "      <td>A charming apartment that sits atop Queen Anne...</td>\n",
       "      <td>None</td>\n",
       "      <td>A charming apartment that sits atop Queen Anne...</td>\n",
       "      <td>none</td>\n",
       "      <td>None</td>\n",
       "      <td>None</td>\n",
       "      <td>None</td>\n",
       "      <td>9851441</td>\n",
       "      <td>...</td>\n",
       "      <td>NaN</td>\n",
       "      <td>NaN</td>\n",
       "      <td>NaN</td>\n",
       "      <td>WASHINGTON</td>\n",
       "      <td>False</td>\n",
       "      <td>flexible</td>\n",
       "      <td>False</td>\n",
       "      <td>False</td>\n",
       "      <td>1</td>\n",
       "      <td>NaN</td>\n",
       "    </tr>\n",
       "    <tr>\n",
       "      <th>4</th>\n",
       "      <td>278830</td>\n",
       "      <td>Charming craftsman 3 bdm house</td>\n",
       "      <td>Cozy family craftman house in beautiful neighb...</td>\n",
       "      <td>Cozy family craftman house in beautiful neighb...</td>\n",
       "      <td>Cozy family craftman house in beautiful neighb...</td>\n",
       "      <td>none</td>\n",
       "      <td>We are in the beautiful neighborhood of Queen ...</td>\n",
       "      <td>Belltown</td>\n",
       "      <td>The nearest public transit bus (D Line) is 2 b...</td>\n",
       "      <td>1452570</td>\n",
       "      <td>...</td>\n",
       "      <td>10.0</td>\n",
       "      <td>9.0</td>\n",
       "      <td>9.0</td>\n",
       "      <td>WASHINGTON</td>\n",
       "      <td>False</td>\n",
       "      <td>strict</td>\n",
       "      <td>False</td>\n",
       "      <td>False</td>\n",
       "      <td>1</td>\n",
       "      <td>0.89</td>\n",
       "    </tr>\n",
       "  </tbody>\n",
       "</table>\n",
       "<p>5 rows × 79 columns</p>\n",
       "</div>"
      ],
      "text/plain": [
       "        id                                 name  \\\n",
       "0   241032         Stylish Queen Anne Apartment   \n",
       "1   953595   Bright & Airy Queen Anne Apartment   \n",
       "2  3308979  New Modern House-Amazing water view   \n",
       "3  7421966                   Queen Anne Chateau   \n",
       "4   278830       Charming craftsman 3 bdm house   \n",
       "\n",
       "                                             summary  \\\n",
       "0                                               None   \n",
       "1  Chemically sensitive? We've removed the irrita...   \n",
       "2  New modern house built in 2013.  Spectacular s...   \n",
       "3  A charming apartment that sits atop Queen Anne...   \n",
       "4  Cozy family craftman house in beautiful neighb...   \n",
       "\n",
       "                                               space  \\\n",
       "0  Make your self at home in this charming one-be...   \n",
       "1  Beautiful, hypoallergenic apartment in an extr...   \n",
       "2  Our house is modern, light and fresh with a wa...   \n",
       "3                                               None   \n",
       "4  Cozy family craftman house in beautiful neighb...   \n",
       "\n",
       "                                         description experiences_offered  \\\n",
       "0  Make your self at home in this charming one-be...                none   \n",
       "1  Chemically sensitive? We've removed the irrita...                none   \n",
       "2  New modern house built in 2013.  Spectacular s...                none   \n",
       "3  A charming apartment that sits atop Queen Anne...                none   \n",
       "4  Cozy family craftman house in beautiful neighb...                none   \n",
       "\n",
       "                               neighborhood_overview  \\\n",
       "0                                               None   \n",
       "1  Queen Anne is a wonderful, truly functional vi...   \n",
       "2  Upper Queen Anne is a charming neighborhood fu...   \n",
       "3                                               None   \n",
       "4  We are in the beautiful neighborhood of Queen ...   \n",
       "\n",
       "                                               notes  \\\n",
       "0                                               None   \n",
       "1  What's up with the free pillows?  Our home was...   \n",
       "2  Our house is located just 5 short blocks to To...   \n",
       "3                                               None   \n",
       "4                                           Belltown   \n",
       "\n",
       "                                             transit   host_id  ...  \\\n",
       "0                                               None    956883  ...   \n",
       "1  Convenient bus stops are just down the block, ...   5177328  ...   \n",
       "2  A bus stop is just 2 blocks away.   Easy bus a...  16708587  ...   \n",
       "3                                               None   9851441  ...   \n",
       "4  The nearest public transit bus (D Line) is 2 b...   1452570  ...   \n",
       "\n",
       "  review_scores_communication review_scores_location review_scores_value  \\\n",
       "0                        10.0                    9.0                10.0   \n",
       "1                        10.0                   10.0                10.0   \n",
       "2                        10.0                   10.0                10.0   \n",
       "3                         NaN                    NaN                 NaN   \n",
       "4                        10.0                    9.0                 9.0   \n",
       "\n",
       "  jurisdiction_names instant_bookable cancellation_policy  \\\n",
       "0         WASHINGTON            False            moderate   \n",
       "1         WASHINGTON            False              strict   \n",
       "2         WASHINGTON            False              strict   \n",
       "3         WASHINGTON            False            flexible   \n",
       "4         WASHINGTON            False              strict   \n",
       "\n",
       "  require_guest_profile_picture  require_guest_phone_verification  \\\n",
       "0                         False                             False   \n",
       "1                          True                              True   \n",
       "2                         False                             False   \n",
       "3                         False                             False   \n",
       "4                         False                             False   \n",
       "\n",
       "  calculated_host_listings_count  reviews_per_month  \n",
       "0                              2               4.07  \n",
       "1                              6               1.48  \n",
       "2                              2               1.15  \n",
       "3                              1                NaN  \n",
       "4                              1               0.89  \n",
       "\n",
       "[5 rows x 79 columns]"
      ]
     },
     "execution_count": 6,
     "metadata": {},
     "output_type": "execute_result"
    }
   ],
   "source": [
    "df = spark.read.table(\"lakehouse.kaggle_airbnb.listings\")\n",
    "df.toPandas().head()"
   ]
  },
  {
   "cell_type": "code",
   "execution_count": 7,
   "id": "65787e6c-21d2-4c48-9299-d43ce5d3bbc3",
   "metadata": {},
   "outputs": [
    {
     "data": {
      "text/plain": [
       "[('id', 'int'), ('name', 'string'), ('summary', 'string')]"
      ]
     },
     "execution_count": 7,
     "metadata": {},
     "output_type": "execute_result"
    }
   ],
   "source": [
    "df_column_types_3=df.dtypes[:3]\n",
    "df_column_types_3"
   ]
  },
  {
   "cell_type": "code",
   "execution_count": 8,
   "id": "af51c1c1-c857-4bee-92e8-c1de163b981d",
   "metadata": {},
   "outputs": [
    {
     "data": {
      "text/plain": [
       "[{'name': 'id', 'data_type': 'int'},\n",
       " {'name': 'name', 'data_type': 'string'},\n",
       " {'name': 'summary', 'data_type': 'string'}]"
      ]
     },
     "execution_count": 8,
     "metadata": {},
     "output_type": "execute_result"
    }
   ],
   "source": [
    "columns = [{\"name\":c[0], \"data_type\":c[1]} for c in df_column_types_3]\n",
    "columns"
   ]
  },
  {
   "cell_type": "code",
   "execution_count": 9,
   "id": "00cdfe85-4ff6-498c-9175-4ca31ea5f7bb",
   "metadata": {},
   "outputs": [
    {
     "data": {
      "text/plain": [
       "{'context': 'AirBnB',\n",
       " 'tables': [{'name': 'listings',\n",
       "   'column_csv': 'name,data_type\\r\\nid,int\\r\\nname,string\\r\\nsummary,string\\r\\n'}]}"
      ]
     },
     "execution_count": 9,
     "metadata": {},
     "output_type": "execute_result"
    }
   ],
   "source": [
    "# payload to be sent to model api service\n",
    "payload = build_model_api_payload_csv(\"AirBnB\", \"listings\",columns)\n",
    "payload"
   ]
  },
  {
   "cell_type": "code",
   "execution_count": 13,
   "id": "3713fed8-5ef1-43d4-8794-b65a1df7e5f5",
   "metadata": {},
   "outputs": [
    {
     "name": "stdout",
     "output_type": "stream",
     "text": [
      "# of tokens for payload (without base prompt) : 43\n"
     ]
    }
   ],
   "source": [
    "tokens=num_tokens_from_string(json.dumps(payload), \"cl100k_base\" )\n",
    "print(f\"# of tokens for payload (without base prompt) : {tokens}\")"
   ]
  },
  {
   "cell_type": "code",
   "execution_count": 19,
   "id": "79f2a1f1-dcdc-4ed6-8970-6c89deee2dc3",
   "metadata": {},
   "outputs": [
    {
     "data": {
      "text/plain": [
       "<Response [200]>"
      ]
     },
     "execution_count": 19,
     "metadata": {},
     "output_type": "execute_result"
    }
   ],
   "source": [
    "# sending payload\n",
    "URL = \"http://ingress-nginx-controller.ingress-nginx.svc.cluster.local:80/api/v1/models/column_analysis/tokens\"\n",
    "response = post_json_request(URL,  payload)\n",
    "response"
   ]
  },
  {
   "cell_type": "code",
   "execution_count": 21,
   "id": "e35cb6c4-5c1b-41aa-9e75-93af7a103093",
   "metadata": {},
   "outputs": [
    {
     "data": {
      "text/plain": [
       "{'num_tokens': 35}"
      ]
     },
     "execution_count": 21,
     "metadata": {},
     "output_type": "execute_result"
    }
   ],
   "source": [
    "response.json()"
   ]
  },
  {
   "cell_type": "code",
   "execution_count": 18,
   "id": "2916866e-6a77-460d-87cd-eb69f66a8932",
   "metadata": {},
   "outputs": [
    {
     "data": {
      "text/plain": [
       "<Response [200]>"
      ]
     },
     "execution_count": 18,
     "metadata": {},
     "output_type": "execute_result"
    }
   ],
   "source": [
    "# sending payload\n",
    "URL = \"http://ingress-nginx-controller.ingress-nginx.svc.cluster.local:80/api/v1/models/column_analysis\"\n",
    "response = post_json_request(URL,  payload)\n",
    "response"
   ]
  },
  {
   "cell_type": "code",
   "execution_count": 10,
   "id": "3499c845-5d1a-4911-b333-41991cd25325",
   "metadata": {},
   "outputs": [
    {
     "data": {
      "text/html": [
       "<div>\n",
       "<style scoped>\n",
       "    .dataframe tbody tr th:only-of-type {\n",
       "        vertical-align: middle;\n",
       "    }\n",
       "\n",
       "    .dataframe tbody tr th {\n",
       "        vertical-align: top;\n",
       "    }\n",
       "\n",
       "    .dataframe thead th {\n",
       "        text-align: right;\n",
       "    }\n",
       "</style>\n",
       "<table border=\"1\" class=\"dataframe\">\n",
       "  <thead>\n",
       "    <tr style=\"text-align: right;\">\n",
       "      <th></th>\n",
       "      <th>name</th>\n",
       "      <th>description</th>\n",
       "    </tr>\n",
       "  </thead>\n",
       "  <tbody>\n",
       "    <tr>\n",
       "      <th>0</th>\n",
       "      <td>id</td>\n",
       "      <td>Unique identifier for each listing</td>\n",
       "    </tr>\n",
       "    <tr>\n",
       "      <th>1</th>\n",
       "      <td>name</td>\n",
       "      <td>Name or title of the listing</td>\n",
       "    </tr>\n",
       "    <tr>\n",
       "      <th>2</th>\n",
       "      <td>summary</td>\n",
       "      <td>Brief summary or description of the listing</td>\n",
       "    </tr>\n",
       "  </tbody>\n",
       "</table>\n",
       "</div>"
      ],
      "text/plain": [
       "      name                                  description\n",
       "0       id           Unique identifier for each listing\n",
       "1     name                 Name or title of the listing\n",
       "2  summary  Brief summary or description of the listing"
      ]
     },
     "execution_count": 10,
     "metadata": {},
     "output_type": "execute_result"
    }
   ],
   "source": [
    "content_json = csv_to_json_array(response.json()[\"content\"])\n",
    "pd.set_option('display.max_colwidth', 100)\n",
    "df = pd.DataFrame(content_json)\n",
    "df"
   ]
  },
  {
   "cell_type": "code",
   "execution_count": 11,
   "id": "8323221f-31b7-4837-9f3c-67e063408269",
   "metadata": {},
   "outputs": [
    {
     "data": {
      "text/plain": [
       "{'completion_tokens': 32, 'prompt_tokens': 223, 'total_tokens': 255}"
      ]
     },
     "execution_count": 11,
     "metadata": {},
     "output_type": "execute_result"
    }
   ],
   "source": [
    "usage =response.json()[\"usage\"]\n",
    "usage"
   ]
  },
  {
   "cell_type": "code",
   "execution_count": 12,
   "id": "47bba7a9-9f8c-4225-b663-78c27d88ad25",
   "metadata": {},
   "outputs": [],
   "source": [
    "spark.stop()"
   ]
  }
 ],
 "metadata": {
  "kernelspec": {
   "display_name": "Python 3 (ipykernel)",
   "language": "python",
   "name": "python3"
  },
  "language_info": {
   "codemirror_mode": {
    "name": "ipython",
    "version": 3
   },
   "file_extension": ".py",
   "mimetype": "text/x-python",
   "name": "python",
   "nbconvert_exporter": "python",
   "pygments_lexer": "ipython3",
   "version": "3.8.10"
  }
 },
 "nbformat": 4,
 "nbformat_minor": 5
}
