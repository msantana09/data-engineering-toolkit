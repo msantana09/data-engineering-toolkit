{
 "cells": [
  {
   "cell_type": "code",
   "execution_count": 1,
   "id": "07fda60b-d7f2-47e6-84b4-8ca17ad46747",
   "metadata": {},
   "outputs": [],
   "source": [
    "import sys\n",
    "from pyspark.sql import SparkSession,  DataFrame, functions as F\n",
    "from pyspark.sql.types import DoubleType\n"
   ]
  },
  {
   "cell_type": "code",
   "execution_count": 2,
   "id": "d1a154ec-3ec0-48b4-a881-ea2972d7c668",
   "metadata": {},
   "outputs": [],
   "source": [
    "s3_source_path = \"s3://datalake/raw/kaggle_airbnb/reviews.csv\"\n"
   ]
  },
  {
   "cell_type": "code",
   "execution_count": 3,
   "id": "afa0dd6a-b7cc-49a8-866a-3bbdd6291c91",
   "metadata": {},
   "outputs": [
    {
     "name": "stderr",
     "output_type": "stream",
     "text": [
      "23/12/27 00:25:33 WARN SparkSession: Using an existing Spark session; only runtime SQL configurations will take effect.\n"
     ]
    }
   ],
   "source": [
    "spark = SparkSession.builder.appName(\"clean_reviews\").getOrCreate()\n"
   ]
  },
  {
   "cell_type": "code",
   "execution_count": 4,
   "id": "e2c03980-2441-406e-9788-aacc28b1db40",
   "metadata": {},
   "outputs": [
    {
     "name": "stderr",
     "output_type": "stream",
     "text": [
      "23/12/27 00:25:38 WARN MetricsConfig: Cannot locate configuration: tried hadoop-metrics2-s3a-file-system.properties,hadoop-metrics2.properties\n",
      "                                                                                \r"
     ]
    }
   ],
   "source": [
    "df = spark.read\\\n",
    "        .option(\"sep\",\",\")\\\n",
    "        .option(\"inferSchema\", \"true\")\\\n",
    "        .option(\"header\", \"true\")\\\n",
    "        .option(\"multiline\",\"true\")\\\n",
    "        .option(\"quote\", '\"')\\\n",
    "        .option(\"escape\", \"\\\\\")\\\n",
    "        .option(\"escape\", '\"')\\\n",
    "        .option(\"encoding\", \"UTF-8\")\\\n",
    "        .option(\"ignoreLeadingWhiteSpace\", \"true\")\\\n",
    "        .option(\"ignoreTrailingWhiteSpace\", \"true\")\\\n",
    "        .csv(s3_source_path)"
   ]
  },
  {
   "cell_type": "code",
   "execution_count": 5,
   "id": "25c3623e-3852-4c3e-bc09-b5929ca4dec6",
   "metadata": {},
   "outputs": [
    {
     "name": "stderr",
     "output_type": "stream",
     "text": [
      "                                                                                \r"
     ]
    },
    {
     "data": {
      "text/html": [
       "<div>\n",
       "<style scoped>\n",
       "    .dataframe tbody tr th:only-of-type {\n",
       "        vertical-align: middle;\n",
       "    }\n",
       "\n",
       "    .dataframe tbody tr th {\n",
       "        vertical-align: top;\n",
       "    }\n",
       "\n",
       "    .dataframe thead th {\n",
       "        text-align: right;\n",
       "    }\n",
       "</style>\n",
       "<table border=\"1\" class=\"dataframe\">\n",
       "  <thead>\n",
       "    <tr style=\"text-align: right;\">\n",
       "      <th></th>\n",
       "      <th>listing_id</th>\n",
       "      <th>id</th>\n",
       "      <th>date</th>\n",
       "      <th>reviewer_id</th>\n",
       "      <th>reviewer_name</th>\n",
       "      <th>comments</th>\n",
       "    </tr>\n",
       "  </thead>\n",
       "  <tbody>\n",
       "    <tr>\n",
       "      <th>0</th>\n",
       "      <td>7202016</td>\n",
       "      <td>38917982</td>\n",
       "      <td>2015-07-19</td>\n",
       "      <td>28943674</td>\n",
       "      <td>Bianca</td>\n",
       "      <td>Cute and cozy place. Perfect location to every...</td>\n",
       "    </tr>\n",
       "    <tr>\n",
       "      <th>1</th>\n",
       "      <td>7202016</td>\n",
       "      <td>39087409</td>\n",
       "      <td>2015-07-20</td>\n",
       "      <td>32440555</td>\n",
       "      <td>Frank</td>\n",
       "      <td>Kelly has a great room in a very central locat...</td>\n",
       "    </tr>\n",
       "    <tr>\n",
       "      <th>2</th>\n",
       "      <td>7202016</td>\n",
       "      <td>39820030</td>\n",
       "      <td>2015-07-26</td>\n",
       "      <td>37722850</td>\n",
       "      <td>Ian</td>\n",
       "      <td>Very spacious apartment, and in a great neighb...</td>\n",
       "    </tr>\n",
       "    <tr>\n",
       "      <th>3</th>\n",
       "      <td>7202016</td>\n",
       "      <td>40813543</td>\n",
       "      <td>2015-08-02</td>\n",
       "      <td>33671805</td>\n",
       "      <td>George</td>\n",
       "      <td>Close to Seattle Center and all it has to offe...</td>\n",
       "    </tr>\n",
       "    <tr>\n",
       "      <th>4</th>\n",
       "      <td>7202016</td>\n",
       "      <td>41986501</td>\n",
       "      <td>2015-08-10</td>\n",
       "      <td>34959538</td>\n",
       "      <td>Ming</td>\n",
       "      <td>Kelly was a great host and very accommodating ...</td>\n",
       "    </tr>\n",
       "  </tbody>\n",
       "</table>\n",
       "</div>"
      ],
      "text/plain": [
       "   listing_id        id        date  reviewer_id reviewer_name  \\\n",
       "0     7202016  38917982  2015-07-19     28943674        Bianca   \n",
       "1     7202016  39087409  2015-07-20     32440555         Frank   \n",
       "2     7202016  39820030  2015-07-26     37722850           Ian   \n",
       "3     7202016  40813543  2015-08-02     33671805        George   \n",
       "4     7202016  41986501  2015-08-10     34959538          Ming   \n",
       "\n",
       "                                            comments  \n",
       "0  Cute and cozy place. Perfect location to every...  \n",
       "1  Kelly has a great room in a very central locat...  \n",
       "2  Very spacious apartment, and in a great neighb...  \n",
       "3  Close to Seattle Center and all it has to offe...  \n",
       "4  Kelly was a great host and very accommodating ...  "
      ]
     },
     "execution_count": 5,
     "metadata": {},
     "output_type": "execute_result"
    }
   ],
   "source": [
    "df.limit(5).toPandas().head()\n"
   ]
  },
  {
   "cell_type": "code",
   "execution_count": 12,
   "id": "ff00843e-2c63-45f4-b3a2-b09ee93f8204",
   "metadata": {},
   "outputs": [
    {
     "name": "stdout",
     "output_type": "stream",
     "text": [
      "+----------+--------+----------+-----------+-------------+--------+\n",
      "|listing_id|      id|      date|reviewer_id|reviewer_name|comments|\n",
      "+----------+--------+----------+-----------+-------------+--------+\n",
      "|    461567|11614247|2014-04-09|   12120141|        Abbey|    NULL|\n",
      "|      9460|10563024|2014-02-24|   12498029|        Debra|    NULL|\n",
      "|    910784| 9950520|2014-01-21|     179481|       Enrico|    NULL|\n",
      "|     10695|   52378|2010-06-13|     105412|          Wei|    NULL|\n",
      "|   1018204|10024984|2014-01-26|   10571694|       Jordan|    NULL|\n",
      "|   6079216|34824019|2015-06-12|   31556342|         Mack|    NULL|\n",
      "|   3354614|18103248|2014-08-21|   12426758|         Jeff|    NULL|\n",
      "|   3554558|24863045|2015-01-03|   24488791|      Eleanor|    NULL|\n",
      "|   1790020|15640556|2014-07-13|   16884291|      Michael|    NULL|\n",
      "|     23430| 8347394|2013-10-27|    5034901|          Jim|    NULL|\n",
      "|    774659| 7116754|2013-09-07|    7654662|    Elizabeth|    NULL|\n",
      "|    585418|10782872|2014-03-07|   11979005|      Felecia|    NULL|\n",
      "|    231097|31247122|2015-05-03|    2152222|        Sehar|    NULL|\n",
      "|      5682|   64918|2010-07-15|     145644|         Keri|    NULL|\n",
      "|   6759104|57492182|2015-12-26|   40294811|       Zareth|    NULL|\n",
      "|   8294379|56583503|2015-12-14|   29068286|      Michael|    NULL|\n",
      "|     84030|11782337|2014-04-14|    5270791|       Robert|    NULL|\n",
      "+----------+--------+----------+-----------+-------------+--------+\n",
      "\n"
     ]
    }
   ],
   "source": [
    "df.filter(df.comments.isNull()).show()"
   ]
  },
  {
   "cell_type": "code",
   "execution_count": 9,
   "id": "c88ae98a-6063-4280-a7e2-3be2ecf592c8",
   "metadata": {},
   "outputs": [
    {
     "data": {
      "text/plain": [
       "[('listing_id', 'int'),\n",
       " ('id', 'int'),\n",
       " ('date', 'date'),\n",
       " ('reviewer_id', 'int'),\n",
       " ('reviewer_name', 'string'),\n",
       " ('comments', 'string')]"
      ]
     },
     "execution_count": 9,
     "metadata": {},
     "output_type": "execute_result"
    }
   ],
   "source": [
    "df.dtypes"
   ]
  },
  {
   "cell_type": "code",
   "execution_count": null,
   "id": "6f3ddd0a-b38c-45d7-8be7-fab2187decce",
   "metadata": {},
   "outputs": [],
   "source": [
    "def drop_unneeded_columns(df: DataFrame, words: list) -> DataFrame:\n",
    "    columns_to_drop = [col for col in df.columns if any(word in col for word in words)]\n",
    "    return df.drop(*columns_to_drop)\n",
    "\n",
    "def transform_columns(df):\n",
    "    # Convert boolean columns\n",
    "    boolean_cols = [col_name for col_name in df.columns\n",
    "                        if df.select(col_name).filter(df[col_name].isin(['t', 'f'])).count()\n",
    "                        == df.select(col_name).filter(f'NOT {col_name} IS NULL').count()]\n",
    "    \n",
    "    for bc in boolean_cols:\n",
    "        df = df.withColumn(bc, F.when(F.col(bc) == 't', True).otherwise(False))\n",
    "\n",
    "    # Standardize price fields\n",
    "    # Find columns with non-null values all starting in $ \n",
    "    # and emove non-numeric characters from price (e.g., '$', ',')\n",
    "    price_cols = [col_name for col_name in df.columns\n",
    "                  if df.filter((~F.col(col_name).rlike('^\\\\$')) & (~F.isnull(F.col(col_name)))).count() == 0]\n",
    "    for pc in price_cols:\n",
    "        df = df.withColumn(pc, F.regexp_replace(F.col(pc), \"[$,]\", \"\").cast(DoubleType()))  \n",
    "\n",
    "    return df"
   ]
  },
  {
   "cell_type": "code",
   "execution_count": null,
   "id": "db0a940d-eb19-4d80-9917-646b11f8be98",
   "metadata": {},
   "outputs": [],
   "source": [
    "df_trimmed = df.transform(drop_unneeded_columns, column_keywords_to_exclude)"
   ]
  },
  {
   "cell_type": "code",
   "execution_count": null,
   "id": "a28a36f5-b115-43fa-aac9-f456aa8971bc",
   "metadata": {},
   "outputs": [],
   "source": [
    "df_clean = df_trimmed.transform(transform_columns)"
   ]
  },
  {
   "cell_type": "code",
   "execution_count": null,
   "id": "1632c1f9-79cf-4d5e-a23f-f179590c6704",
   "metadata": {},
   "outputs": [],
   "source": [
    "df_clean.cache()\n"
   ]
  },
  {
   "cell_type": "code",
   "execution_count": null,
   "id": "bdbf6f04-a290-47ce-885e-49a6856a2a12",
   "metadata": {},
   "outputs": [],
   "source": [
    "df_clean.dtypes"
   ]
  },
  {
   "cell_type": "code",
   "execution_count": null,
   "id": "8454e171-46c9-4030-b4dd-e448a65d84f1",
   "metadata": {},
   "outputs": [],
   "source": [
    "df_clean.limit(5).toPandas().head()\n"
   ]
  },
  {
   "cell_type": "code",
   "execution_count": null,
   "id": "68fd9185-db1f-4eb9-86df-141c99ff81cb",
   "metadata": {},
   "outputs": [],
   "source": [
    "df_clean.limit(20).write.option('header', True).option(\"multiline\",\"true\").option(\"escape\", '\"').mode('overwrite').csv(f'airbnb/clean_listings_10')\n"
   ]
  },
  {
   "cell_type": "code",
   "execution_count": null,
   "id": "47bba7a9-9f8c-4225-b663-78c27d88ad25",
   "metadata": {},
   "outputs": [],
   "source": [
    "spark.stop()"
   ]
  },
  {
   "cell_type": "code",
   "execution_count": null,
   "id": "657c0d74-eb35-4517-a9ea-0933ea318fbf",
   "metadata": {},
   "outputs": [],
   "source": []
  }
 ],
 "metadata": {
  "kernelspec": {
   "display_name": "Python 3 (ipykernel)",
   "language": "python",
   "name": "python3"
  },
  "language_info": {
   "codemirror_mode": {
    "name": "ipython",
    "version": 3
   },
   "file_extension": ".py",
   "mimetype": "text/x-python",
   "name": "python",
   "nbconvert_exporter": "python",
   "pygments_lexer": "ipython3",
   "version": "3.8.10"
  }
 },
 "nbformat": 4,
 "nbformat_minor": 5
}
