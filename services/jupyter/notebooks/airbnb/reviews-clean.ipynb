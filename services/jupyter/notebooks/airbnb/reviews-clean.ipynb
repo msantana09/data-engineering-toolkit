{
 "cells": [
  {
   "cell_type": "markdown",
   "id": "c74e641b",
   "metadata": {},
   "source": [
    "# Transform logic for Airbnb Reviews"
   ]
  },
  {
   "cell_type": "markdown",
   "id": "1c220317-7581-4a76-93a2-67cb1ef21977",
   "metadata": {},
   "source": [
    "## Initialize Spark sesssion"
   ]
  },
  {
   "cell_type": "code",
   "execution_count": 1,
   "id": "07fda60b-d7f2-47e6-84b4-8ca17ad46747",
   "metadata": {},
   "outputs": [
    {
     "name": "stderr",
     "output_type": "stream",
     "text": [
      "24/01/12 20:19:20 WARN SparkSession: Using an existing Spark session; only runtime SQL configurations will take effect.\n"
     ]
    }
   ],
   "source": [
    "from pyspark.sql import SparkSession,  DataFrame\n",
    "\n",
    "spark = SparkSession.builder.appName(\"clean_reviews\").getOrCreate()"
   ]
  },
  {
   "cell_type": "markdown",
   "id": "49f46a29-e09d-480a-a5ad-dae682987984",
   "metadata": {},
   "source": [
    "## Read ingested CSV from MinIO"
   ]
  },
  {
   "cell_type": "code",
   "execution_count": 2,
   "id": "e2c03980-2441-406e-9788-aacc28b1db40",
   "metadata": {},
   "outputs": [
    {
     "name": "stderr",
     "output_type": "stream",
     "text": [
      "24/01/12 20:19:21 WARN MetricsConfig: Cannot locate configuration: tried hadoop-metrics2-s3a-file-system.properties,hadoop-metrics2.properties\n",
      "                                                                                \r"
     ]
    }
   ],
   "source": [
    "s3_source_path = \"s3://datalake/raw/kaggle_airbnb/reviews.csv\"\n",
    "\n",
    "df = spark.read\\\n",
    "        .option(\"sep\",\",\")\\\n",
    "        .option(\"inferSchema\", \"true\")\\\n",
    "        .option(\"header\", \"true\")\\\n",
    "        .option(\"multiline\",\"true\")\\\n",
    "        .option(\"quote\", '\"')\\\n",
    "        .option(\"escape\", \"\\\\\")\\\n",
    "        .option(\"escape\", '\"')\\\n",
    "        .option(\"encoding\", \"UTF-8\")\\\n",
    "        .option(\"ignoreLeadingWhiteSpace\", \"true\")\\\n",
    "        .option(\"ignoreTrailingWhiteSpace\", \"true\")\\\n",
    "        .csv(s3_source_path)"
   ]
  },
  {
   "cell_type": "markdown",
   "id": "54b85e5f-19a6-4dd2-96b3-249fbd98859a",
   "metadata": {},
   "source": [
    "## Preview Data"
   ]
  },
  {
   "cell_type": "code",
   "execution_count": 3,
   "id": "25c3623e-3852-4c3e-bc09-b5929ca4dec6",
   "metadata": {},
   "outputs": [
    {
     "name": "stderr",
     "output_type": "stream",
     "text": [
      "                                                                                \r"
     ]
    },
    {
     "name": "stdout",
     "output_type": "stream",
     "text": [
      "Total: 84849\n"
     ]
    },
    {
     "data": {
      "text/html": [
       "<div>\n",
       "<style scoped>\n",
       "    .dataframe tbody tr th:only-of-type {\n",
       "        vertical-align: middle;\n",
       "    }\n",
       "\n",
       "    .dataframe tbody tr th {\n",
       "        vertical-align: top;\n",
       "    }\n",
       "\n",
       "    .dataframe thead th {\n",
       "        text-align: right;\n",
       "    }\n",
       "</style>\n",
       "<table border=\"1\" class=\"dataframe\">\n",
       "  <thead>\n",
       "    <tr style=\"text-align: right;\">\n",
       "      <th></th>\n",
       "      <th>listing_id</th>\n",
       "      <th>id</th>\n",
       "      <th>date</th>\n",
       "      <th>reviewer_id</th>\n",
       "      <th>reviewer_name</th>\n",
       "      <th>comments</th>\n",
       "    </tr>\n",
       "  </thead>\n",
       "  <tbody>\n",
       "    <tr>\n",
       "      <th>0</th>\n",
       "      <td>7202016</td>\n",
       "      <td>38917982</td>\n",
       "      <td>2015-07-19</td>\n",
       "      <td>28943674</td>\n",
       "      <td>Bianca</td>\n",
       "      <td>Cute and cozy place. Perfect location to every...</td>\n",
       "    </tr>\n",
       "    <tr>\n",
       "      <th>1</th>\n",
       "      <td>7202016</td>\n",
       "      <td>39087409</td>\n",
       "      <td>2015-07-20</td>\n",
       "      <td>32440555</td>\n",
       "      <td>Frank</td>\n",
       "      <td>Kelly has a great room in a very central locat...</td>\n",
       "    </tr>\n",
       "    <tr>\n",
       "      <th>2</th>\n",
       "      <td>7202016</td>\n",
       "      <td>39820030</td>\n",
       "      <td>2015-07-26</td>\n",
       "      <td>37722850</td>\n",
       "      <td>Ian</td>\n",
       "      <td>Very spacious apartment, and in a great neighb...</td>\n",
       "    </tr>\n",
       "    <tr>\n",
       "      <th>3</th>\n",
       "      <td>7202016</td>\n",
       "      <td>40813543</td>\n",
       "      <td>2015-08-02</td>\n",
       "      <td>33671805</td>\n",
       "      <td>George</td>\n",
       "      <td>Close to Seattle Center and all it has to offe...</td>\n",
       "    </tr>\n",
       "    <tr>\n",
       "      <th>4</th>\n",
       "      <td>7202016</td>\n",
       "      <td>41986501</td>\n",
       "      <td>2015-08-10</td>\n",
       "      <td>34959538</td>\n",
       "      <td>Ming</td>\n",
       "      <td>Kelly was a great host and very accommodating ...</td>\n",
       "    </tr>\n",
       "  </tbody>\n",
       "</table>\n",
       "</div>"
      ],
      "text/plain": [
       "   listing_id        id        date  reviewer_id reviewer_name  \\\n",
       "0     7202016  38917982  2015-07-19     28943674        Bianca   \n",
       "1     7202016  39087409  2015-07-20     32440555         Frank   \n",
       "2     7202016  39820030  2015-07-26     37722850           Ian   \n",
       "3     7202016  40813543  2015-08-02     33671805        George   \n",
       "4     7202016  41986501  2015-08-10     34959538          Ming   \n",
       "\n",
       "                                            comments  \n",
       "0  Cute and cozy place. Perfect location to every...  \n",
       "1  Kelly has a great room in a very central locat...  \n",
       "2  Very spacious apartment, and in a great neighb...  \n",
       "3  Close to Seattle Center and all it has to offe...  \n",
       "4  Kelly was a great host and very accommodating ...  "
      ]
     },
     "execution_count": 3,
     "metadata": {},
     "output_type": "execute_result"
    }
   ],
   "source": [
    "print(f\"Total: {df.count()}\")\n",
    "\n",
    "df.limit(5).toPandas().head()"
   ]
  },
  {
   "cell_type": "markdown",
   "id": "1339c1bd-3eb3-474a-9a0e-75eea90ac532",
   "metadata": {},
   "source": [
    "## List reviews with Null comments"
   ]
  },
  {
   "cell_type": "code",
   "execution_count": 4,
   "id": "ff00843e-2c63-45f4-b3a2-b09ee93f8204",
   "metadata": {},
   "outputs": [
    {
     "name": "stderr",
     "output_type": "stream",
     "text": [
      "                                                                                \r"
     ]
    },
    {
     "name": "stdout",
     "output_type": "stream",
     "text": [
      "Null comment count: 17\n"
     ]
    },
    {
     "name": "stderr",
     "output_type": "stream",
     "text": [
      "                                                                                \r"
     ]
    },
    {
     "name": "stdout",
     "output_type": "stream",
     "text": [
      "+----------+--------+----------+-----------+-------------+--------+\n",
      "|listing_id|      id|      date|reviewer_id|reviewer_name|comments|\n",
      "+----------+--------+----------+-----------+-------------+--------+\n",
      "|    461567|11614247|2014-04-09|   12120141|        Abbey|    NULL|\n",
      "|      9460|10563024|2014-02-24|   12498029|        Debra|    NULL|\n",
      "|    910784| 9950520|2014-01-21|     179481|       Enrico|    NULL|\n",
      "|     10695|   52378|2010-06-13|     105412|          Wei|    NULL|\n",
      "|   1018204|10024984|2014-01-26|   10571694|       Jordan|    NULL|\n",
      "|   6079216|34824019|2015-06-12|   31556342|         Mack|    NULL|\n",
      "|   3354614|18103248|2014-08-21|   12426758|         Jeff|    NULL|\n",
      "|   3554558|24863045|2015-01-03|   24488791|      Eleanor|    NULL|\n",
      "|   1790020|15640556|2014-07-13|   16884291|      Michael|    NULL|\n",
      "|     23430| 8347394|2013-10-27|    5034901|          Jim|    NULL|\n",
      "|    774659| 7116754|2013-09-07|    7654662|    Elizabeth|    NULL|\n",
      "|    585418|10782872|2014-03-07|   11979005|      Felecia|    NULL|\n",
      "|    231097|31247122|2015-05-03|    2152222|        Sehar|    NULL|\n",
      "|      5682|   64918|2010-07-15|     145644|         Keri|    NULL|\n",
      "|   6759104|57492182|2015-12-26|   40294811|       Zareth|    NULL|\n",
      "|   8294379|56583503|2015-12-14|   29068286|      Michael|    NULL|\n",
      "|     84030|11782337|2014-04-14|    5270791|       Robert|    NULL|\n",
      "+----------+--------+----------+-----------+-------------+--------+\n",
      "\n"
     ]
    }
   ],
   "source": [
    "df_null_comments = df.filter(df.comments.isNull())\n",
    "print(f\"Null comment count: {df_null_comments.count()}\")\n",
    "df_null_comments.show()"
   ]
  },
  {
   "cell_type": "markdown",
   "id": "9124ad7e-a536-4ba1-8cc8-f8f6f48649bc",
   "metadata": {},
   "source": [
    "## Drop reviews with Null comments"
   ]
  },
  {
   "cell_type": "code",
   "execution_count": 5,
   "id": "34189ec7-3f6e-46d4-b604-8f96d89f437b",
   "metadata": {},
   "outputs": [
    {
     "name": "stderr",
     "output_type": "stream",
     "text": [
      "[Stage 10:>                                                         (0 + 1) / 1]\r"
     ]
    },
    {
     "name": "stdout",
     "output_type": "stream",
     "text": [
      "Clean record count : 84832\n"
     ]
    },
    {
     "name": "stderr",
     "output_type": "stream",
     "text": [
      "                                                                                \r"
     ]
    }
   ],
   "source": [
    "def drop_null_comments(df: DataFrame ) -> DataFrame:\n",
    "    with_comments=df.filter(df.comments.isNotNull())\n",
    "    return with_comments\n",
    "\n",
    "df_clean = df.transform(drop_null_comments)\n",
    "print(f\"Clean record count : {df_clean.count()}\")"
   ]
  },
  {
   "cell_type": "markdown",
   "id": "ea526f66-0932-4621-a9f4-df75e8f4d7f6",
   "metadata": {},
   "source": [
    "## List remaining reviews with Null comments (none)"
   ]
  },
  {
   "cell_type": "code",
   "execution_count": 6,
   "id": "9557f998-843f-4f33-8340-095a669b6925",
   "metadata": {},
   "outputs": [
    {
     "name": "stderr",
     "output_type": "stream",
     "text": [
      "[Stage 13:>                                                         (0 + 1) / 1]\r"
     ]
    },
    {
     "name": "stdout",
     "output_type": "stream",
     "text": [
      "+----------+---+----+-----------+-------------+--------+\n",
      "|listing_id| id|date|reviewer_id|reviewer_name|comments|\n",
      "+----------+---+----+-----------+-------------+--------+\n",
      "+----------+---+----+-----------+-------------+--------+\n",
      "\n"
     ]
    },
    {
     "name": "stderr",
     "output_type": "stream",
     "text": [
      "                                                                                \r"
     ]
    }
   ],
   "source": [
    "df_clean.filter(df_clean.comments.isNull()).show()"
   ]
  },
  {
   "cell_type": "code",
   "execution_count": 7,
   "id": "47bba7a9-9f8c-4225-b663-78c27d88ad25",
   "metadata": {},
   "outputs": [],
   "source": [
    "spark.stop()"
   ]
  }
 ],
 "metadata": {
  "kernelspec": {
   "display_name": "Python 3 (ipykernel)",
   "language": "python",
   "name": "python3"
  },
  "language_info": {
   "codemirror_mode": {
    "name": "ipython",
    "version": 3
   },
   "file_extension": ".py",
   "mimetype": "text/x-python",
   "name": "python",
   "nbconvert_exporter": "python",
   "pygments_lexer": "ipython3",
   "version": "3.8.10"
  }
 },
 "nbformat": 4,
 "nbformat_minor": 5
}
