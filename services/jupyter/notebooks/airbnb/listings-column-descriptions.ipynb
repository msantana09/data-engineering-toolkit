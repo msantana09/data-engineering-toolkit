{
 "cells": [
  {
   "cell_type": "markdown",
   "id": "b3774ab0-0cbb-4b56-b0e3-69bc643a5f54",
   "metadata": {},
   "source": [
    "# Column description generation for Airbnb listing data"
   ]
  },
  {
   "cell_type": "code",
   "execution_count": 1,
   "id": "07fda60b-d7f2-47e6-84b4-8ca17ad46747",
   "metadata": {},
   "outputs": [],
   "source": [
    "import pandas as pd\n",
    "\n",
    "#MODEL_SERVICE_BASE_URL = \"http://ingress-nginx-controller.ingress-nginx.svc.cluster.local:80/api/v1/models\"\n",
    "MODEL_SERVICE_BASE_URL = \"http://model-api-svc.models.svc.cluster.local:8000/api/v1/models\"\n",
    "\n",
    "TRINO_URL = 'trino-svc.trino.svc.cluster.local'\n",
    "TRINO_PORT = 8080\n",
    "TRINO_USER = 'trino'\n",
    "TRINO_CATALOG = 'lakehouse'\n",
    "DATABASE= 'kaggle_airbnb'\n",
    "TABLE='listings'"
   ]
  },
  {
   "cell_type": "markdown",
   "id": "488635b2-641a-440f-b660-6e5a104a37c9",
   "metadata": {},
   "source": [
    "## Define Functions used in DAG"
   ]
  },
  {
   "cell_type": "code",
   "execution_count": 2,
   "id": "07e2325c-95b0-4fad-a31e-e44c95247b1b",
   "metadata": {},
   "outputs": [],
   "source": [
    "\n",
    "import requests\n",
    "import json\n",
    "import csv\n",
    "import io\n",
    "\n",
    "def list_of_dicts_to_csv(data:list)->str:\n",
    "    output = io.StringIO()\n",
    "    keys = data[0].keys()\n",
    "    dict_writer = csv.DictWriter(output, keys)\n",
    "    dict_writer.writeheader()\n",
    "    dict_writer.writerows(data)\n",
    "    return output.getvalue()\n",
    "    \n",
    "def csv_to_list_of_dicts(csv_string:str)->list:\n",
    "    csv_reader = csv.reader(csv_string.splitlines())\n",
    "    field_names = next(csv_reader)\n",
    "    values = []\n",
    "    for row in csv_reader:\n",
    "        values.append(dict(zip(field_names, row)))\n",
    "    return values\n",
    "    \n",
    "def create_llm_column_request_batches(columns:list, batch_size:int=5)->list:\n",
    "    '''\n",
    "    Returns a list of lists of columns to be used in the LLM API request\n",
    "    '''\n",
    "\n",
    "    cols_without_comment = [{\"name\":col[0], \"type\":col[1]} for col in columns]\n",
    "\n",
    "    # splitting into batches to prevent API from timing out or token issues \n",
    "    cols_without_comment_batched = [cols_without_comment[i:i + batch_size] for i in range(0, len(cols_without_comment), batch_size)]\n",
    "    return cols_without_comment_batched\n",
    "\n",
    "def build_llm_column_request_payload_csv(dataset_context:str, table:str, columns:list) -> dict: \n",
    "    '''\n",
    "    Returns a dictionary that can be used as the payload for the LLM API request\n",
    "    '''\n",
    "    payload = {\n",
    "        \"context\": dataset_context,\n",
    "        \"tables\": [\n",
    "            {\n",
    "                \"name\": table,\n",
    "                \"column_csv\": list_of_dicts_to_csv(columns)\n",
    "            } \n",
    "        ]\n",
    "    }\n",
    "    return payload\n",
    "    \n",
    "def post_json_request(url, payload, additional_headers=None):\n",
    "    # Set default headers\n",
    "    headers = {\n",
    "        'Content-Type': 'application/json',\n",
    "        'Accept': 'application/json',\n",
    "    }\n",
    "\n",
    "    # Merge with additional headers if provided\n",
    "    if additional_headers:\n",
    "        headers.update(additional_headers)\n",
    "        \n",
    "    payload_json = json.dumps(payload)\n",
    "\n",
    "    # Perform the POST request\n",
    "    response = requests.post(url, data=payload_json, headers=headers)\n",
    "\n",
    "    # Return the response\n",
    "    return response\n",
    "\n",
    "def generate_descriptions(table, columns):\n",
    "    payload = build_llm_column_request_payload_csv(\n",
    "        dataset_context=\"AirBnB\", table=table, columns=columns\n",
    "    )\n",
    "\n",
    "    response = post_json_request(f\"{MODEL_SERVICE_BASE_URL}/describe_columns\", payload)\n",
    "\n",
    "    if response.status_code != 200:\n",
    "        raise Exception(f\"Error from Models service API: {response.text}\")\n",
    "\n",
    "    content = response.json()[\"content\"]\n",
    "    usage = response.json()[\"usage\"]\n",
    "    print(usage)\n",
    "    return csv_to_list_of_dicts(content)"
   ]
  },
  {
   "cell_type": "markdown",
   "id": "7d87756e-0266-45f1-92eb-84bf3c1be4a1",
   "metadata": {},
   "source": [
    "## Initialize Trino Connection"
   ]
  },
  {
   "cell_type": "code",
   "execution_count": 3,
   "id": "eccb1d2d-6400-46c2-bbef-d7c677258aef",
   "metadata": {},
   "outputs": [],
   "source": [
    "from trino.dbapi import connect\n",
    "\n",
    "# Connection details\n",
    "trino_conn = connect(\n",
    "    host=TRINO_URL,\n",
    "    port=TRINO_PORT,\n",
    "    user=TRINO_USER,\n",
    "    catalog=TRINO_CATALOG \n",
    ")"
   ]
  },
  {
   "cell_type": "markdown",
   "id": "1bc26451-9673-4d56-afc6-4781e0af4bd6",
   "metadata": {},
   "source": [
    "## Query for Column Names (Limited to 10 for testing)"
   ]
  },
  {
   "cell_type": "code",
   "execution_count": 4,
   "id": "3c6754d9-be0e-4299-a26c-c405f33de0e9",
   "metadata": {},
   "outputs": [
    {
     "name": "stdout",
     "output_type": "stream",
     "text": [
      "['id', 'integer']\n",
      "['name', 'varchar']\n",
      "['summary', 'varchar']\n",
      "['space', 'varchar']\n",
      "['description', 'varchar']\n",
      "['experiences_offered', 'varchar']\n",
      "['neighborhood_overview', 'varchar']\n",
      "['notes', 'varchar']\n",
      "['transit', 'varchar']\n",
      "['host_id', 'integer']\n"
     ]
    }
   ],
   "source": [
    "# Create a cursor object\n",
    "cur = trino_conn.cursor()\n",
    "\n",
    "query = f\"\"\"\n",
    "    SELECT column_name, data_type\n",
    "    FROM information_schema.columns   \n",
    "    WHERE   \n",
    "        table_schema = '{DATABASE}'   \n",
    "        AND table_name = '{TABLE}'\n",
    "    \"\"\"\n",
    "\n",
    "#AND comment IS NULL;\n",
    "cur.execute(query) \n",
    "\n",
    "# Fetch the results\n",
    "rows = cur.fetchall()\n",
    "rows_10 = rows[:10]\n",
    "for row in rows_10:\n",
    "    print(row)\n"
   ]
  },
  {
   "cell_type": "markdown",
   "id": "08017623-1138-4052-9bf4-1a5cf579ed95",
   "metadata": {},
   "source": [
    "## Split the columns into batches of 5"
   ]
  },
  {
   "cell_type": "markdown",
   "id": "37a5aeab-7e0a-4cee-96d2-d6022f67f4ac",
   "metadata": {},
   "source": [
    "### Add this logic just in case we work with a very wide table"
   ]
  },
  {
   "cell_type": "code",
   "execution_count": 5,
   "id": "afa0dd6a-b7cc-49a8-866a-3bbdd6291c91",
   "metadata": {},
   "outputs": [
    {
     "name": "stdout",
     "output_type": "stream",
     "text": [
      "Number of request batches: 2\n"
     ]
    }
   ],
   "source": [
    "column_batches = create_llm_column_request_batches(rows_10)\n",
    "print(f\"Number of request batches: {len(column_batches)}\")\n",
    "    "
   ]
  },
  {
   "cell_type": "markdown",
   "id": "c7cff256-1386-4ffb-be79-bf3a8aa17328",
   "metadata": {},
   "source": [
    "## Generate Column Descriptions"
   ]
  },
  {
   "cell_type": "code",
   "execution_count": 8,
   "id": "af51c1c1-c857-4bee-92e8-c1de163b981d",
   "metadata": {},
   "outputs": [
    {
     "name": "stdout",
     "output_type": "stream",
     "text": [
      "{'completion_tokens': 75, 'prompt_tokens': 233, 'total_tokens': 308}\n",
      "{'completion_tokens': 71, 'prompt_tokens': 241, 'total_tokens': 312}\n"
     ]
    }
   ],
   "source": [
    "responses = []\n",
    "for columns in column_batches:\n",
    "    responses.extend(generate_descriptions(TABLE, columns) )\n"
   ]
  },
  {
   "cell_type": "markdown",
   "id": "a0b039df-9941-47ae-862a-f074de4211c9",
   "metadata": {},
   "source": [
    "### Display results"
   ]
  },
  {
   "cell_type": "code",
   "execution_count": 9,
   "id": "9da03cee-777f-484a-bfd6-10f919197fb4",
   "metadata": {},
   "outputs": [
    {
     "data": {
      "text/html": [
       "<div>\n",
       "<style scoped>\n",
       "    .dataframe tbody tr th:only-of-type {\n",
       "        vertical-align: middle;\n",
       "    }\n",
       "\n",
       "    .dataframe tbody tr th {\n",
       "        vertical-align: top;\n",
       "    }\n",
       "\n",
       "    .dataframe thead th {\n",
       "        text-align: right;\n",
       "    }\n",
       "</style>\n",
       "<table border=\"1\" class=\"dataframe\">\n",
       "  <thead>\n",
       "    <tr style=\"text-align: right;\">\n",
       "      <th></th>\n",
       "      <th>name</th>\n",
       "      <th>description</th>\n",
       "    </tr>\n",
       "  </thead>\n",
       "  <tbody>\n",
       "    <tr>\n",
       "      <th>0</th>\n",
       "      <td>id</td>\n",
       "      <td>Unique identifier for each listing. Used for referencing and identifying the listing.</td>\n",
       "    </tr>\n",
       "    <tr>\n",
       "      <th>1</th>\n",
       "      <td>name</td>\n",
       "      <td>The name or title of the listing.</td>\n",
       "    </tr>\n",
       "    <tr>\n",
       "      <th>2</th>\n",
       "      <td>summary</td>\n",
       "      <td>A brief summary or overview of the listing.</td>\n",
       "    </tr>\n",
       "    <tr>\n",
       "      <th>3</th>\n",
       "      <td>space</td>\n",
       "      <td>Detailed information about the physical space or layout of the listing.</td>\n",
       "    </tr>\n",
       "    <tr>\n",
       "      <th>4</th>\n",
       "      <td>description</td>\n",
       "      <td>Detailed description of the listing, including amenities, features, and any additional information.</td>\n",
       "    </tr>\n",
       "    <tr>\n",
       "      <th>5</th>\n",
       "      <td>experiences_offered</td>\n",
       "      <td>Description of the experiences offered in the neighborhood</td>\n",
       "    </tr>\n",
       "    <tr>\n",
       "      <th>6</th>\n",
       "      <td>neighborhood_overview</td>\n",
       "      <td>Overview of the neighborhood including attractions and amenities</td>\n",
       "    </tr>\n",
       "    <tr>\n",
       "      <th>7</th>\n",
       "      <td>notes</td>\n",
       "      <td>Additional notes or information about the property</td>\n",
       "    </tr>\n",
       "    <tr>\n",
       "      <th>8</th>\n",
       "      <td>transit</td>\n",
       "      <td>Description of transportation options available in the area</td>\n",
       "    </tr>\n",
       "    <tr>\n",
       "      <th>9</th>\n",
       "      <td>host_id</td>\n",
       "      <td>Unique identifier of the host for the listing</td>\n",
       "    </tr>\n",
       "  </tbody>\n",
       "</table>\n",
       "</div>"
      ],
      "text/plain": [
       "                    name  \\\n",
       "0                     id   \n",
       "1                   name   \n",
       "2                summary   \n",
       "3                  space   \n",
       "4            description   \n",
       "5    experiences_offered   \n",
       "6  neighborhood_overview   \n",
       "7                  notes   \n",
       "8                transit   \n",
       "9                host_id   \n",
       "\n",
       "                                                                                           description  \n",
       "0                Unique identifier for each listing. Used for referencing and identifying the listing.  \n",
       "1                                                                    The name or title of the listing.  \n",
       "2                                                          A brief summary or overview of the listing.  \n",
       "3                              Detailed information about the physical space or layout of the listing.  \n",
       "4  Detailed description of the listing, including amenities, features, and any additional information.  \n",
       "5                                           Description of the experiences offered in the neighborhood  \n",
       "6                                     Overview of the neighborhood including attractions and amenities  \n",
       "7                                                   Additional notes or information about the property  \n",
       "8                                          Description of transportation options available in the area  \n",
       "9                                                        Unique identifier of the host for the listing  "
      ]
     },
     "execution_count": 9,
     "metadata": {},
     "output_type": "execute_result"
    }
   ],
   "source": [
    "pd.set_option('display.max_colwidth', 100)\n",
    "df = pd.DataFrame(responses)\n",
    "df"
   ]
  },
  {
   "cell_type": "code",
   "execution_count": null,
   "id": "7608917c-4e7f-41c7-823b-21c460a93b55",
   "metadata": {},
   "outputs": [],
   "source": []
  }
 ],
 "metadata": {
  "kernelspec": {
   "display_name": "Python 3 (ipykernel)",
   "language": "python",
   "name": "python3"
  },
  "language_info": {
   "codemirror_mode": {
    "name": "ipython",
    "version": 3
   },
   "file_extension": ".py",
   "mimetype": "text/x-python",
   "name": "python",
   "nbconvert_exporter": "python",
   "pygments_lexer": "ipython3",
   "version": "3.8.10"
  }
 },
 "nbformat": 4,
 "nbformat_minor": 5
}
