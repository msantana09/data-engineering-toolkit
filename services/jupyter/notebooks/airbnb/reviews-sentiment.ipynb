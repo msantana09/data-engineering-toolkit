{
 "cells": [
  {
   "cell_type": "markdown",
   "id": "4b3a98f9-87aa-44a5-b266-4c0b729f3ff6",
   "metadata": {},
   "source": [
    "# Sentiment Analysis using local model service"
   ]
  },
  {
   "cell_type": "markdown",
   "id": "8d074cc3-4cc1-4d8f-a72e-261e7ba92e61",
   "metadata": {},
   "source": [
    "We're utilizing the `/sentiment` endpoint in out model api service to analyze the reviews and assign a sentiment value. <br/>\n",
    "\n",
    "Using the [nlptown/bert-base-multilingual-uncased-sentiment](https://huggingface.co/nlptown/bert-base-multilingual-uncased-sentiment) model downloaded from Huggingface"
   ]
  },
  {
   "cell_type": "markdown",
   "id": "aab2c0b2-45ba-493d-ba90-1990cd84a801",
   "metadata": {},
   "source": [
    "### Defining utility function to perform REST calls"
   ]
  },
  {
   "cell_type": "code",
   "execution_count": 1,
   "id": "f4e564a1-e701-4c9e-bea9-1fd8e34c5964",
   "metadata": {},
   "outputs": [],
   "source": [
    "import requests\n",
    "import json\n",
    "\n",
    "def post_json_request(url, payload, additional_headers=None):\n",
    "    # Set default headers\n",
    "    headers = {\n",
    "        'Content-Type': 'application/json',\n",
    "        'Accept': 'application/json',\n",
    "    }\n",
    "\n",
    "    # Merge with additional headers if provided\n",
    "    if additional_headers:\n",
    "        headers.update(additional_headers)\n",
    "        \n",
    "    payload_json = json.dumps(payload)\n",
    "\n",
    "    # Perform the POST request\n",
    "    response = requests.post(url, data=payload_json, headers=headers)\n",
    "\n",
    "    # Return the response\n",
    "    return response\n",
    "\n"
   ]
  },
  {
   "cell_type": "markdown",
   "id": "6ab60732-81db-4fe8-8318-0944ca716872",
   "metadata": {},
   "source": [
    "## Spark"
   ]
  },
  {
   "cell_type": "markdown",
   "id": "0bbf1311-a311-44fa-bffa-7b0d1f02a92a",
   "metadata": {},
   "source": [
    "### Defining the spark session"
   ]
  },
  {
   "cell_type": "code",
   "execution_count": 2,
   "id": "afa0dd6a-b7cc-49a8-866a-3bbdd6291c91",
   "metadata": {},
   "outputs": [
    {
     "name": "stderr",
     "output_type": "stream",
     "text": [
      "24/01/24 19:42:40 WARN SparkSession: Using an existing Spark session; only runtime SQL configurations will take effect.\n"
     ]
    }
   ],
   "source": [
    "from pyspark.sql import SparkSession,  DataFrame, functions as F\n",
    "spark = SparkSession.builder.appName(\"sentiment_analysis\").getOrCreate()"
   ]
  },
  {
   "cell_type": "markdown",
   "id": "815b7253-5d35-4346-92a2-9e0015ae1ab1",
   "metadata": {},
   "source": [
    "### Defining the Dataframe by reading Iceberg table stored in S3/Minio"
   ]
  },
  {
   "cell_type": "code",
   "execution_count": 3,
   "id": "ec5b4610-835a-4a0d-8a1c-fbe7dbc320e3",
   "metadata": {},
   "outputs": [
    {
     "name": "stderr",
     "output_type": "stream",
     "text": [
      "SLF4J: Failed to load class \"org.slf4j.impl.StaticLoggerBinder\".\n",
      "SLF4J: Defaulting to no-operation (NOP) logger implementation\n",
      "SLF4J: See http://www.slf4j.org/codes.html#StaticLoggerBinder for further details.\n"
     ]
    }
   ],
   "source": [
    "df = spark.read.table(\"lakehouse.kaggle_airbnb.reviews\")"
   ]
  },
  {
   "cell_type": "markdown",
   "id": "75922f17-7242-41cd-b44b-b5c2b0eb3e36",
   "metadata": {},
   "source": [
    "### Filtering for just the first few records, just for testing"
   ]
  },
  {
   "cell_type": "code",
   "execution_count": 4,
   "id": "46ac78f3-2969-4e41-a180-9e645f971884",
   "metadata": {},
   "outputs": [
    {
     "name": "stderr",
     "output_type": "stream",
     "text": [
      "                                                                                \r"
     ]
    },
    {
     "data": {
      "text/html": [
       "<div>\n",
       "<style scoped>\n",
       "    .dataframe tbody tr th:only-of-type {\n",
       "        vertical-align: middle;\n",
       "    }\n",
       "\n",
       "    .dataframe tbody tr th {\n",
       "        vertical-align: top;\n",
       "    }\n",
       "\n",
       "    .dataframe thead th {\n",
       "        text-align: right;\n",
       "    }\n",
       "</style>\n",
       "<table border=\"1\" class=\"dataframe\">\n",
       "  <thead>\n",
       "    <tr style=\"text-align: right;\">\n",
       "      <th></th>\n",
       "      <th>listing_id</th>\n",
       "      <th>id</th>\n",
       "      <th>date</th>\n",
       "      <th>reviewer_id</th>\n",
       "      <th>reviewer_name</th>\n",
       "      <th>comments</th>\n",
       "    </tr>\n",
       "  </thead>\n",
       "  <tbody>\n",
       "    <tr>\n",
       "      <th>0</th>\n",
       "      <td>7202016</td>\n",
       "      <td>38917982</td>\n",
       "      <td>2015-07-19</td>\n",
       "      <td>28943674</td>\n",
       "      <td>Bianca</td>\n",
       "      <td>Cute and cozy place. Perfect location to every...</td>\n",
       "    </tr>\n",
       "    <tr>\n",
       "      <th>1</th>\n",
       "      <td>7202016</td>\n",
       "      <td>39087409</td>\n",
       "      <td>2015-07-20</td>\n",
       "      <td>32440555</td>\n",
       "      <td>Frank</td>\n",
       "      <td>Kelly has a great room in a very central locat...</td>\n",
       "    </tr>\n",
       "    <tr>\n",
       "      <th>2</th>\n",
       "      <td>7202016</td>\n",
       "      <td>39820030</td>\n",
       "      <td>2015-07-26</td>\n",
       "      <td>37722850</td>\n",
       "      <td>Ian</td>\n",
       "      <td>Very spacious apartment, and in a great neighb...</td>\n",
       "    </tr>\n",
       "    <tr>\n",
       "      <th>3</th>\n",
       "      <td>7202016</td>\n",
       "      <td>40813543</td>\n",
       "      <td>2015-08-02</td>\n",
       "      <td>33671805</td>\n",
       "      <td>George</td>\n",
       "      <td>Close to Seattle Center and all it has to offe...</td>\n",
       "    </tr>\n",
       "    <tr>\n",
       "      <th>4</th>\n",
       "      <td>7202016</td>\n",
       "      <td>41986501</td>\n",
       "      <td>2015-08-10</td>\n",
       "      <td>34959538</td>\n",
       "      <td>Ming</td>\n",
       "      <td>Kelly was a great host and very accommodating ...</td>\n",
       "    </tr>\n",
       "  </tbody>\n",
       "</table>\n",
       "</div>"
      ],
      "text/plain": [
       "   listing_id        id        date  reviewer_id reviewer_name  \\\n",
       "0     7202016  38917982  2015-07-19     28943674        Bianca   \n",
       "1     7202016  39087409  2015-07-20     32440555         Frank   \n",
       "2     7202016  39820030  2015-07-26     37722850           Ian   \n",
       "3     7202016  40813543  2015-08-02     33671805        George   \n",
       "4     7202016  41986501  2015-08-10     34959538          Ming   \n",
       "\n",
       "                                            comments  \n",
       "0  Cute and cozy place. Perfect location to every...  \n",
       "1  Kelly has a great room in a very central locat...  \n",
       "2  Very spacious apartment, and in a great neighb...  \n",
       "3  Close to Seattle Center and all it has to offe...  \n",
       "4  Kelly was a great host and very accommodating ...  "
      ]
     },
     "execution_count": 4,
     "metadata": {},
     "output_type": "execute_result"
    }
   ],
   "source": [
    "df_5 = df.limit(5)\n",
    "df_5.toPandas().head()"
   ]
  },
  {
   "cell_type": "markdown",
   "id": "d4dcea87-6a43-493c-b140-e2005dbab94d",
   "metadata": {},
   "source": [
    "### Defining Spark UDF to call Model REST API"
   ]
  },
  {
   "cell_type": "code",
   "execution_count": 5,
   "id": "b303ae95-db9f-4d00-8a4f-73fb313fd87b",
   "metadata": {},
   "outputs": [],
   "source": [
    "from pyspark.sql.functions import col, udf\n",
    "\n",
    "def get_sentiment(review:str)->str:\n",
    "    URL = \"http://model-api-svc.models.svc.cluster.local:8000/api/v1/models/sentiment\"\n",
    "    request = {\"text\":review}\n",
    "    response = post_json_request(URL,  request).json()\n",
    "    return response['result']\n",
    "    \n",
    "get_sentiment_udf = udf(lambda r: get_sentiment(r)) \n"
   ]
  },
  {
   "cell_type": "markdown",
   "id": "ce404bbf-3ce3-4579-aa27-4aeaea140197",
   "metadata": {},
   "source": [
    "### Setting new column (review_sentiment) to the UDF, and caching to avoid repeated UDF calls "
   ]
  },
  {
   "cell_type": "code",
   "execution_count": 6,
   "id": "af51c1c1-c857-4bee-92e8-c1de163b981d",
   "metadata": {},
   "outputs": [
    {
     "name": "stderr",
     "output_type": "stream",
     "text": [
      "                                                                                \r"
     ]
    },
    {
     "data": {
      "text/html": [
       "<div>\n",
       "<style scoped>\n",
       "    .dataframe tbody tr th:only-of-type {\n",
       "        vertical-align: middle;\n",
       "    }\n",
       "\n",
       "    .dataframe tbody tr th {\n",
       "        vertical-align: top;\n",
       "    }\n",
       "\n",
       "    .dataframe thead th {\n",
       "        text-align: right;\n",
       "    }\n",
       "</style>\n",
       "<table border=\"1\" class=\"dataframe\">\n",
       "  <thead>\n",
       "    <tr style=\"text-align: right;\">\n",
       "      <th></th>\n",
       "      <th>comments</th>\n",
       "      <th>review_sentiment</th>\n",
       "    </tr>\n",
       "  </thead>\n",
       "  <tbody>\n",
       "    <tr>\n",
       "      <th>0</th>\n",
       "      <td>Cute and cozy place. Perfect location to every...</td>\n",
       "      <td>Very Positive</td>\n",
       "    </tr>\n",
       "    <tr>\n",
       "      <th>1</th>\n",
       "      <td>Kelly has a great room in a very central locat...</td>\n",
       "      <td>Very Positive</td>\n",
       "    </tr>\n",
       "    <tr>\n",
       "      <th>2</th>\n",
       "      <td>Very spacious apartment, and in a great neighb...</td>\n",
       "      <td>Positive</td>\n",
       "    </tr>\n",
       "    <tr>\n",
       "      <th>3</th>\n",
       "      <td>Close to Seattle Center and all it has to offe...</td>\n",
       "      <td>Very Positive</td>\n",
       "    </tr>\n",
       "    <tr>\n",
       "      <th>4</th>\n",
       "      <td>Kelly was a great host and very accommodating ...</td>\n",
       "      <td>Very Positive</td>\n",
       "    </tr>\n",
       "  </tbody>\n",
       "</table>\n",
       "</div>"
      ],
      "text/plain": [
       "                                            comments review_sentiment\n",
       "0  Cute and cozy place. Perfect location to every...    Very Positive\n",
       "1  Kelly has a great room in a very central locat...    Very Positive\n",
       "2  Very spacious apartment, and in a great neighb...         Positive\n",
       "3  Close to Seattle Center and all it has to offe...    Very Positive\n",
       "4  Kelly was a great host and very accommodating ...    Very Positive"
      ]
     },
     "execution_count": 6,
     "metadata": {},
     "output_type": "execute_result"
    }
   ],
   "source": [
    "df_5_sentiments = df_5.withColumn('review_sentiment',  get_sentiment_udf(col(\"comments\"))  ).cache() \n",
    "df_5_sentiments.select('comments', 'review_sentiment').toPandas().head()"
   ]
  },
  {
   "cell_type": "code",
   "execution_count": 8,
   "id": "aad36308-ff11-4dba-bde7-6bc16fad762a",
   "metadata": {},
   "outputs": [
    {
     "name": "stdout",
     "output_type": "stream",
     "text": [
      "+--------------------------------------------------------------------------------------------------------------------------------------------------------------------------------------------------------------------------------------------------------------------------------------------------------------------------------------------------------------------------------------------------------------+----------------+\n",
      "|comments                                                                                                                                                                                                                                                                                                                                                                                                      |review_sentiment|\n",
      "+--------------------------------------------------------------------------------------------------------------------------------------------------------------------------------------------------------------------------------------------------------------------------------------------------------------------------------------------------------------------------------------------------------------+----------------+\n",
      "|Cute and cozy place. Perfect location to everything!                                                                                                                                                                                                                                                                                                                                                          |Very Positive   |\n",
      "|Kelly has a great room in a very central location. \\r\\nBeautiful building , architecture and a style that we really like. \\r\\nWe felt guite at home here and wish we had spent more time.\\r\\nWent for a walk and found Seattle Center with a major food festival in progress. What a treat.\\r\\nVisited the Space Needle and the Chihuly Glass exhibit. Then Pikes Place Market. WOW.  Thanks for a great stay.|Very Positive   |\n",
      "|Very spacious apartment, and in a great neighborhood.  This is the kind of apartment I wish I had!\\r\\n\\r\\nDidn't really get to meet Kelly until I was on my out, but she was always readily available by phone. \\r\\n\\r\\nI believe the only \"issue\" (if you want to call it that) was finding a place to park, but I sincerely doubt its easy to park anywhere in a residential area after 5 pm on a Friday    |Positive        |\n",
      "|Close to Seattle Center and all it has to offer - ballet, theater, museum, Space Needle, restaurants of all ilk just blocks away, and the Metropolitan (probably the coolest grocer you'll ever find). Easy to find and Kelly was warm, welcoming, and really interesting to talk to.                                                                                                                         |Very Positive   |\n",
      "|Kelly was a great host and very accommodating in a great neighborhood. She has some great coffee and while I wasn't around much during my stay the time I spent interacting with her was very pleasant. \\r\\n\\r\\nThe apartment is in a great location and very close to the Seattle Center. The neighborhood itself has a lot of good food as well!                                                            |Very Positive   |\n",
      "+--------------------------------------------------------------------------------------------------------------------------------------------------------------------------------------------------------------------------------------------------------------------------------------------------------------------------------------------------------------------------------------------------------------+----------------+\n",
      "\n"
     ]
    }
   ],
   "source": [
    "df_5_sentiments.select('comments', 'review_sentiment').show(truncate=False)"
   ]
  },
  {
   "cell_type": "code",
   "execution_count": 9,
   "id": "47bba7a9-9f8c-4225-b663-78c27d88ad25",
   "metadata": {},
   "outputs": [],
   "source": [
    "spark.stop()"
   ]
  },
  {
   "cell_type": "code",
   "execution_count": null,
   "id": "e9e3afe0-2036-437f-a9ec-1e76fce211a8",
   "metadata": {},
   "outputs": [],
   "source": []
  }
 ],
 "metadata": {
  "kernelspec": {
   "display_name": "Python 3 (ipykernel)",
   "language": "python",
   "name": "python3"
  },
  "language_info": {
   "codemirror_mode": {
    "name": "ipython",
    "version": 3
   },
   "file_extension": ".py",
   "mimetype": "text/x-python",
   "name": "python",
   "nbconvert_exporter": "python",
   "pygments_lexer": "ipython3",
   "version": "3.8.10"
  }
 },
 "nbformat": 4,
 "nbformat_minor": 5
}
